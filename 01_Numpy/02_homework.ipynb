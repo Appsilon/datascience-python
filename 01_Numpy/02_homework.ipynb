{
 "cells": [
  {
   "cell_type": "markdown",
   "metadata": {},
   "source": [
    "# Numpy Homework\n",
    "\n",
    "We will use the new and recommended random number generator `default_rng` instead of `np.random.rand`.\n",
    "\n",
    "## Task 1\n",
    "\n",
    "Given the following two vectors:"
   ]
  },
  {
   "cell_type": "code",
   "execution_count": 1,
   "metadata": {},
   "outputs": [
    {
     "data": {
      "text/plain": [
       "(array([ 0.04,  0.47, -0.14, -1.39,  2.52, -1.01,  1.86, -2.5 ,  0.15,\n",
       "        -0.09,  2.12,  0.52, -0.53,  1.24,  0.21,  1.81, -0.22,  0.09,\n",
       "        -0.13, -1.13,  0.85,  0.68,  0.87, -0.34,  1.02,  1.11, -0.04,\n",
       "        -0.82, -0.16, -1.5 ]),\n",
       " array([-0.11,  0.54, -0.31, -1.58,  2.56, -1.  ,  1.67, -2.42,  0.15,\n",
       "         0.03,  2.09,  0.56, -0.69,  1.19,  0.32,  1.72, -0.14,  0.14,\n",
       "        -0.22, -0.94,  0.91,  0.75,  0.95, -0.54,  1.03,  1.19, -0.04,\n",
       "        -0.73, -0.15, -1.46]))"
      ]
     },
     "execution_count": 1,
     "metadata": {},
     "output_type": "execute_result"
    }
   ],
   "source": [
    "import numpy as np\n",
    "from numpy.random import default_rng\n",
    "\n",
    "rng = default_rng(1337)\n",
    "x = np.round(rng.normal(size=30), 2)\n",
    "y = x + np.round(rng.normal(size=30) * 0.1, 2)\n",
    "x, y"
   ]
  },
  {
   "cell_type": "markdown",
   "metadata": {},
   "source": [
    "Calculate:\n",
    "\n",
    "1. Mean of `x`\n",
    "2. Sum of `x`\n",
    "3. Mean of absolute values of `x`\n",
    "4. Element further from $0$ of `x`\n",
    "5. Element further from $2$ of `x`\n",
    "6. Array that will setup elements smaller than $-1$ to $-1$ and larger than $1$ to $1$\n",
    "7. Mean error (ERR) between `x` and `y`\n",
    "8. Mean absolute error (MAD) between `x` and `y`\n",
    "9. Mean squared error (MSE) between `x` and `y`\n",
    "10. Root mean squared error (RMSE) between `x` and `y`"
   ]
  },
  {
   "cell_type": "markdown",
   "metadata": {},
   "source": [
    "## Task 2\n",
    "\n",
    "Write function `standardize(X)` that will norm every column of matrix `X` (each separately).\n",
    "The mean of every column should be equal $0$ and standard deviation to $1$.\n",
    "It's procedure very often used in ML."
   ]
  },
  {
   "cell_type": "markdown",
   "metadata": {},
   "source": [
    "## Task 3\n",
    "\n",
    "Calculate value of $\\pi$ by using Monte Carlo method.\n",
    " \n",
    "Useful links:\n",
    "\n",
    "- https://www.geeksforgeeks.org/estimating-value-pi-using-monte-carlo/\n",
    "- https://www.youtube.com/watch?v=WAf0rqwAvgg"
   ]
  },
  {
   "cell_type": "markdown",
   "metadata": {},
   "source": [
    "## Task 4\n",
    "\n",
    "Calculate the area under function $\\exp(-x^2)$ from $-2$ to $2$.\n"
   ]
  }
 ],
 "metadata": {
  "kernelspec": {
   "display_name": "Python 3.9.12 ('rigplay-lighting')",
   "language": "python",
   "name": "python3"
  },
  "language_info": {
   "codemirror_mode": {
    "name": "ipython",
    "version": 3
   },
   "file_extension": ".py",
   "mimetype": "text/x-python",
   "name": "python",
   "nbconvert_exporter": "python",
   "pygments_lexer": "ipython3",
   "version": "3.9.12"
  },
  "orig_nbformat": 4,
  "vscode": {
   "interpreter": {
    "hash": "acaec1dd4d4ad1413b15d1459179aaee505991b8d2edc661768082683fde5d51"
   }
  }
 },
 "nbformat": 4,
 "nbformat_minor": 2
}
