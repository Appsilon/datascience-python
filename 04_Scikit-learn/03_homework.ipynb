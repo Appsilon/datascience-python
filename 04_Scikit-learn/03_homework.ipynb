{
 "cells": [
  {
   "cell_type": "markdown",
   "metadata": {},
   "source": [
    "# Sklearn Homework\n",
    "\n",
    "In this homework you will work on 3 files that can be found in the `data/housing/*` directory:\n",
    "\n",
    "1. `housing_train.csv` - training data\n",
    "2. `housing_validation.csv` - validation data, you will evaluate your model on this data\n",
    "3. `housing_example_submission.csv` - example submission of your model\n",
    "\n",
    "You will split your work into two parts.\n",
    "\n",
    "## Train a simple linear regression model\n",
    "\n",
    "First make the following preprocessing on the whole `housing_train.csv`:\n",
    "\n",
    "1. Columns with more than 70% of `NA` values change into columns `NA_in_col_*` by following instructions in the presentation part. **Remove the original column**.\n",
    "2. Fill the rest of `NA`s in other columns with the **median** of particular column.\n",
    "\n",
    "With such dataframe train the linear regression model that will predict the `MEDV` column.\n",
    "Using this model answer the following questions:\n",
    "\n",
    "1. Predict the price of the observation `rec` (defined bellow).\n",
    "2. How much would the prediction change if we'd increase the `RM` column by 2?"
   ]
  },
  {
   "cell_type": "code",
   "execution_count": 1,
   "metadata": {},
   "outputs": [
    {
     "data": {
      "text/html": [
       "<div>\n",
       "<style scoped>\n",
       "    .dataframe tbody tr th:only-of-type {\n",
       "        vertical-align: middle;\n",
       "    }\n",
       "\n",
       "    .dataframe tbody tr th {\n",
       "        vertical-align: top;\n",
       "    }\n",
       "\n",
       "    .dataframe thead th {\n",
       "        text-align: right;\n",
       "    }\n",
       "</style>\n",
       "<table border=\"1\" class=\"dataframe\">\n",
       "  <thead>\n",
       "    <tr style=\"text-align: right;\">\n",
       "      <th></th>\n",
       "      <th>CRIM</th>\n",
       "      <th>ZN</th>\n",
       "      <th>INDUS</th>\n",
       "      <th>CHAS</th>\n",
       "      <th>NOX</th>\n",
       "      <th>RM</th>\n",
       "      <th>AGE</th>\n",
       "      <th>DIS</th>\n",
       "      <th>RAD</th>\n",
       "      <th>TAX</th>\n",
       "      <th>PTRATIO</th>\n",
       "      <th>B</th>\n",
       "      <th>LSTAT</th>\n",
       "    </tr>\n",
       "  </thead>\n",
       "  <tbody>\n",
       "    <tr>\n",
       "      <th>0</th>\n",
       "      <td>3.69</td>\n",
       "      <td>11.37</td>\n",
       "      <td>11.15</td>\n",
       "      <td>0.07</td>\n",
       "      <td>0.87</td>\n",
       "      <td>6.29</td>\n",
       "      <td>68.91</td>\n",
       "      <td>3.77</td>\n",
       "      <td>9.5</td>\n",
       "      <td>410.95</td>\n",
       "      <td>18.37</td>\n",
       "      <td>354.47</td>\n",
       "      <td>0.79</td>\n",
       "    </tr>\n",
       "  </tbody>\n",
       "</table>\n",
       "</div>"
      ],
      "text/plain": [
       "   CRIM     ZN  INDUS  CHAS   NOX    RM    AGE   DIS  RAD     TAX  PTRATIO  \\\n",
       "0  3.69  11.37  11.15  0.07  0.87  6.29  68.91  3.77  9.5  410.95    18.37   \n",
       "\n",
       "        B  LSTAT  \n",
       "0  354.47   0.79  "
      ]
     },
     "execution_count": 1,
     "metadata": {},
     "output_type": "execute_result"
    }
   ],
   "source": [
    "import pandas as pd\n",
    "\n",
    "rec = pd.DataFrame({\n",
    "    'CRIM': [3.69],\n",
    "    'ZN': [11.37],\n",
    "    'INDUS': [11.15],\n",
    "    'CHAS': [0.07],\n",
    "    'NOX': [0.87],\n",
    "    'RM': [6.29],\n",
    "    'AGE': [68.91],\n",
    "    'DIS': [3.77],\n",
    "    'RAD': [9.50],\n",
    "    'TAX': [410.95],\n",
    "    'PTRATIO': [18.37],\n",
    "    'B': [354.47],\n",
    "    'LSTAT': [0.79],\n",
    "})\n",
    "rec"
   ]
  },
  {
   "cell_type": "markdown",
   "metadata": {},
   "source": [
    "## Train the best model regression you can\n",
    "\n",
    "Now you are tasked with a real ML case.\n",
    "Using the acquired knowledge and the [(brilliant) `scikit-learn` documentation](https://scikit-learn.org/stable/) train the best model possible!\n",
    "\n",
    "Using the `housing_train.csv` file, train the best model you can by minimizing **Mean Square Error** metric, then make prediction on `housing_validation.csv`.\n",
    "Prediction should be saved into a file with the same format as `housing_example_submission.csv` file (i.e. ensure the correct column name and lack of index. `s.to_csv(filename, index=False)` should work).\n",
    "Of course `housing_validation.csv` file doesn't contain the `MEDV` column, you have to predict it.\n",
    "\n",
    "After saving the results, save the model as well.\n",
    "This can be done for example using `pickle`. [TODO]\n"
   ]
  },
  {
   "cell_type": "markdown",
   "metadata": {},
   "source": [
    "### Tips\n",
    "\n",
    "When you will work on filling `NA`s with median, take a look on how I done it in the presentation.\n",
    "\n",
    "In the second part experiment with both, preprocessing and modeling.\n",
    "\n",
    "Remember that training on the `housing_train.csv` and checking the model performance on the same dataset can be very miss leading.\n",
    "\n",
    "Probably you want to split `housing_train.csv` into train and test (independently of `housing_validation.csv`).\n",
    "Create the best model using those two datasets and only then make predictions on  `housing_validation.csv`.\n",
    "Maybe you want to understand what is [cross validation](https://scikit-learn.org/stable/modules/cross_validation.html) here?\n",
    "How good is your prediction? You will check it in the next lesson!\n",
    "\n",
    "Apart from `sklearn` you can try [xgboost](https://xgboost.readthedocs.io/en/stable/python/python_api.html#module-xgboost.sklearn) and [lightgbm](https://lightgbm.readthedocs.io/en/latest/pythonapi/lightgbm.LGBMRegressor.html), they should work as a drop-in replacement.\n"
   ]
  },
  {
   "cell_type": "markdown",
   "metadata": {},
   "source": [
    "### Context\n",
    "\n",
    "On websites like [kaggle](https://www.kaggle.com/) you can challenge yourself with ML tasks.\n",
    "Usually the competition looks similarly to this task.\n",
    "You get one csv file with training data and have to evaluate the best model on another.\n",
    "\n",
    "## Additional information on dataset\n",
    "\n",
    "This is modified Boston housing dataset, _classic_ dataset use for learning ML.\n",
    "\n",
    "(Not fully accurate) information on columns' content:\n",
    "\n",
    "```\n",
    "1. CRIM      per capita crime rate by town\n",
    "2. ZN        proportion of residential land zoned for lots over 25,000 sq.ft.\n",
    "3. INDUS     proportion of non-retail business acres per town\n",
    "4. CHAS      Charles River dummy variable (= 1 if tract bounds \n",
    "        river; 0 otherwise)\n",
    "5. NOX       nitric oxides concentration (parts per 10 million)\n",
    "6. RM        average number of rooms per dwelling\n",
    "7. AGE       proportion of owner-occupied units built prior to 1940\n",
    "8. DIS       weighted distances to five Boston employment centres\n",
    "9. RAD       index of accessibility to radial highways\n",
    "10. TAX      full-value property-tax rate per $10,000\n",
    "11. PTRATIO  pupil-teacher ratio by town\n",
    "12. B        1000(Bk - 0.63)^2 where Bk is the proportion of blacks by town\n",
    "13. LSTAT    % lower status of the population\n",
    "14. MEDV     Median value of owner-occupied homes in $1000's\n",
    "```\n",
    "\n"
   ]
  }
 ],
 "metadata": {
  "interpreter": {
   "hash": "306379f83cd7ad906f1941e4fa5d943b9cb847ce8f1ed425d8b7a18353685fed"
  },
  "kernelspec": {
   "display_name": "Python 3.10.4 ('daftacademy-ds')",
   "language": "python",
   "name": "python3"
  },
  "language_info": {
   "codemirror_mode": {
    "name": "ipython",
    "version": 3
   },
   "file_extension": ".py",
   "mimetype": "text/x-python",
   "name": "python",
   "nbconvert_exporter": "python",
   "pygments_lexer": "ipython3",
   "version": "3.10.4"
  },
  "orig_nbformat": 4
 },
 "nbformat": 4,
 "nbformat_minor": 2
}
