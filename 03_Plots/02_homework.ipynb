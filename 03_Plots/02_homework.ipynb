{
 "cells": [
  {
   "cell_type": "markdown",
   "metadata": {},
   "source": [
    "# ~Plots~ Pandas Homework Part 2\n",
    "\n",
    "Surprise, this homework will also be from `pandas` as it's crucial to master your `pandas` skill in the world of Data Science.\n",
    "\n",
    "This time you will use data from Travel Stackexchange and Wikipedia.\n",
    "\n",
    "Example solutions can be found in `homework_solutions` directory.\n",
    "This time two versions of solutions are available.\n",
    "Using pandas (1) and polars (2).\n",
    "\n",
    "## Wikipedia clickstream\n",
    "\n",
    "This [dataset](https://dumps.wikimedia.org/other/clickstream/readme.html) \n",
    "contains the information on how Wikipedia users move around the website.\n",
    "You will work on [the data from March 2022](https://dumps.wikimedia.org/other/clickstream/2022-03/).\n",
    "Data format is [available here](https://meta.wikimedia.org/wiki/Research:Wikipedia_clickstream#Format).\n",
    "\n",
    "## Stack Exchange\n",
    "\n",
    "The second dataset contains information on posts (but not only) of [Stack users](https://archive.org/download/stackexchange).\n",
    "It may surprise you, but all the posts from Stack Overflow and related sites (like Mathexchange) are available for analysis!\n",
    "We will focus on data coming from the stack on [**travels**](https://archive.org/download/stackexchange/travel.stackexchange.com.7z)!\n",
    "\n",
    "Tip for the task on `UpVotes` and `DownVotes`.\n",
    "Take look at column `VoteTypeId` in dataframe `Votes`.\n",
    "There's an information on votes type.\n",
    "Each VoteId corresponds to different type of vote.\n",
    "Information on what's an upvote, what's downvote, which answer has been accepted is [available here](https://meta.stackexchange.com/questions/2677/database-schema-documentation-for-the-public-data-dump-and-sede).\n",
    "\n",
    "![](images/votes.png)"
   ]
  },
  {
   "cell_type": "markdown",
   "metadata": {},
   "source": [
    "### Tasks\n",
    "\n",
    "1. Find the article with the most external entries on German Wikipedia in March 2022.\n",
    "2. Find the article with the most external entries on Polish Wikipedia in March 2022.\n",
    "3. Find the `DisplayName` of the user with the most badges.\n",
    "4. Find the `Location` of the user with the most badges.\n",
    "5. Find the number of entries on the article about the city from the question number 4 on English wikipedia in March 2022.\n",
    "6. Find the most common word with at least 8 letters in all posts.\n",
    "7. Find the number of occurrences of the most common word with at least 8 letters in all posts.\n",
    "8. For the post with the highest number of difference between up votes and down votes find its author `DisplayName`.\n",
    "9. For the post with the highest number of difference between up votes and down votes find its difference between up votes and down votes.\n",
    "10. Find the month in which the most posts were created.\n",
    "11. Find the month in which there was the biggest decrease in the amount of created posts.\n",
    "12. Find the most common tag along posts created by users from Poland (column `Location` should contain `Poland` or `Polska`)."
   ]
  }
 ],
 "metadata": {
  "kernelspec": {
   "display_name": "Python 3.9.12 ('rigplay-lighting')",
   "language": "python",
   "name": "python3"
  },
  "language_info": {
   "name": "python",
   "version": "3.9.12"
  },
  "orig_nbformat": 4,
  "vscode": {
   "interpreter": {
    "hash": "acaec1dd4d4ad1413b15d1459179aaee505991b8d2edc661768082683fde5d51"
   }
  }
 },
 "nbformat": 4,
 "nbformat_minor": 2
}
