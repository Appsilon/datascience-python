{
 "cells": [
  {
   "cell_type": "markdown",
   "metadata": {},
   "source": [
    "# Pandas Homework\n",
    "\n",
    "In this homework you will have to make some queries to answer questions.\n",
    "All queries will be based on the [flights dataset](https://www.kaggle.com/datasets/usdot/flight-delays).\n",
    "\n",
    "Example solutions can be found in `homework_solutions` directory."
   ]
  },
  {
   "cell_type": "markdown",
   "metadata": {},
   "source": [
    "1. Find the maximum delay caused by weather (`WEATHER_DELAY`).\n",
    "2. Find the maximum arrival delay for planes from `LAX` to `ATL` in December.\n",
    "3. Find the tail number of plane with the maximum arrival delay for planes from `LAX` to `ATL` in December.\n",
    "4. Find the minimum arrival delay for planes from `LAX` to `ATL` in December.\n",
    "5. Find the tail number of plane with the minimum arrival delay for planes from `LAX` to `ATL` in December.\n",
    "6. For flight with the maximum flight time (`AIR_TIME`) find its flight time (`AIR_TIME`).\n",
    "7. For flight with the maximum flight time (`AIR_TIME`) find its destination airport.\n",
    "8. For flight with the maximum flight time (`AIR_TIME`) find its airline.\n",
    "9. For all flights from `ORD` to `AUS` and from `AUS` to `ORD` find the minimum time spent in the air (`AIR_TIME`).\n",
    "10. For all flights from `ORD` to `AUS` and from `AUS` to `ORD` find the mean time spent in the air (`AIR_TIME`).\n",
    "11. For all flights from `ORD` to `AUS` and from `AUS` to `ORD` find the median time spent in the air (`AIR_TIME`).\n",
    "12. For all flights from `ORD` to `AUS` and from `AUS` to `ORD` find the maximum time spent in the air (`AIR_TIME`).\n",
    "13. Find the airplane that operate the most flights from Yuma (`YUM`).\n",
    "14. Find the number of flights made from Yuma (`YUM`) by the airplane that operate the most flights from Yuma (`YUM`).\n",
    "15. Find route that takes the shortest time to fly on (by `AIR_TIME`).\n",
    "16. Find the mean time spent in the air on routes from `HNL` to `EWR` and from `EWR` to `HNL`.\n",
    "17. Find the mean time spent in the air on the route from `HNL` to `EWR`.\n",
    "18. Find the mean time spent in the air on the route from `EWR` to `HNL`."
   ]
  }
 ],
 "metadata": {
  "kernelspec": {
   "display_name": "Python 3.9.12 ('rigplay-lighting')",
   "language": "python",
   "name": "python3"
  },
  "language_info": {
   "name": "python",
   "version": "3.9.12"
  },
  "orig_nbformat": 4,
  "vscode": {
   "interpreter": {
    "hash": "acaec1dd4d4ad1413b15d1459179aaee505991b8d2edc661768082683fde5d51"
   }
  }
 },
 "nbformat": 4,
 "nbformat_minor": 2
}
