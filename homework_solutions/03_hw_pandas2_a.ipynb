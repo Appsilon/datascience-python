{
 "cells": [
  {
   "cell_type": "markdown",
   "metadata": {},
   "source": [
    "# Pandas Homework Part 2\n",
    "\n",
    "`pandas` version"
   ]
  },
  {
   "cell_type": "code",
   "execution_count": 1,
   "metadata": {},
   "outputs": [],
   "source": [
    "import pandas as pd\n",
    "from collections import defaultdict"
   ]
  },
  {
   "cell_type": "code",
   "execution_count": 2,
   "metadata": {},
   "outputs": [],
   "source": [
    "columns = ['prev', 'curr', 'type', 'n']"
   ]
  },
  {
   "cell_type": "code",
   "execution_count": 19,
   "metadata": {},
   "outputs": [
    {
     "name": "stdout",
     "output_type": "stream",
     "text": [
      "de Ukraine\n",
      "pl Ukraina\n",
      "CPU times: user 13.3 s, sys: 304 ms, total: 13.6 s\n",
      "Wall time: 13.7 s\n"
     ]
    }
   ],
   "source": [
    "%%time\n",
    "# 1, 2\n",
    "\n",
    "for country in [\"de\", \"pl\"]:\n",
    "    df = pd.read_csv(f\"../data/wikipedia/clickstream-{country}wiki-2022-03.tsv.gz\", sep=\"\\t\", names=columns, on_bad_lines='warn', quoting=3)\n",
    "    s = df.query(\"type == 'external'\").groupby(\"curr\")['n'].sum().sort_values(ascending=False).head().index[0]\n",
    "    print(country, s)"
   ]
  },
  {
   "cell_type": "code",
   "execution_count": 5,
   "metadata": {},
   "outputs": [],
   "source": [
    "badges = pd.read_xml(\"../data/travel/travel.stackexchange.com/Badges.xml\")\n",
    "posts = pd.read_xml(\"../data/travel/travel.stackexchange.com/Posts.xml\", parser='etree')\n",
    "tags =  pd.read_xml(\"../data/travel/travel.stackexchange.com/Tags.xml\", parser='etree')\n",
    "users =  pd.read_xml(\"../data/travel/travel.stackexchange.com/Users.xml\", parser='etree')\n",
    "votes =  pd.read_xml(\"../data/travel/travel.stackexchange.com/Votes.xml\", parser='etree')"
   ]
  },
  {
   "cell_type": "code",
   "execution_count": 6,
   "metadata": {},
   "outputs": [],
   "source": [
    "wiki = pd.read_csv(f\"../data/wikipedia/clickstream-enwiki-2022-03.tsv.gz\", sep=\"\\t\", names=columns, quoting=3)"
   ]
  },
  {
   "cell_type": "code",
   "execution_count": 7,
   "metadata": {},
   "outputs": [
    {
     "name": "stdout",
     "output_type": "stream",
     "text": [
      "CPU times: user 166 ms, sys: 3.64 ms, total: 170 ms\n",
      "Wall time: 169 ms\n"
     ]
    },
    {
     "data": {
      "text/plain": [
       "DisplayName                    Mark Mayo\n",
       "Location       Christchurch, New Zealand\n",
       "Name: 0, dtype: object"
      ]
     },
     "execution_count": 7,
     "metadata": {},
     "output_type": "execute_result"
    }
   ],
   "source": [
    "%%time\n",
    "# 3, 4\n",
    "tid = badges.merge(users, left_on=\"UserId\", right_on=\"Id\").groupby(\"UserId\").size().sort_values().index[-1]\n",
    "top_user = users.loc[users[\"Id\"] == tid, :]\n",
    "top_user = top_user.reset_index(drop=True).loc[0, ['DisplayName', 'Location']]\n",
    "top_user"
   ]
  },
  {
   "cell_type": "code",
   "execution_count": 8,
   "metadata": {},
   "outputs": [
    {
     "name": "stdout",
     "output_type": "stream",
     "text": [
      "CPU times: user 1.4 s, sys: 67.7 ms, total: 1.46 s\n",
      "Wall time: 1.45 s\n"
     ]
    },
    {
     "data": {
      "text/plain": [
       "25804"
      ]
     },
     "execution_count": 8,
     "metadata": {},
     "output_type": "execute_result"
    }
   ],
   "source": [
    "%%time\n",
    "# 5\n",
    "city = top_user['Location'].split(\", \")[0]\n",
    "wiki.loc[wiki['curr'] == city, :]['n'].sum()"
   ]
  },
  {
   "cell_type": "code",
   "execution_count": 9,
   "metadata": {},
   "outputs": [],
   "source": [
    "# Not that this part can be done in many ways\n",
    "# this focuses on showing how to work with apply in non-standard way\n",
    "\n",
    "# https://stackoverflow.com/questions/9662346/python-code-to-remove-html-tags-from-a-string\n",
    "import re\n",
    "CLEANR = re.compile('<.*?>') \n",
    "\n",
    "def cleanhtml(raw_html):\n",
    "    if isinstance(raw_html, str):\n",
    "        cleantext = re.sub(CLEANR, '', raw_html)\n",
    "        return cleantext\n",
    "    else:\n",
    "        return raw_html"
   ]
  },
  {
   "cell_type": "code",
   "execution_count": 10,
   "metadata": {},
   "outputs": [],
   "source": [
    "def aux(l):\n",
    "    d = defaultdict(int)\n",
    "    if isinstance(l, list):\n",
    "        for w in l:\n",
    "            d[w.lower()] += 1\n",
    "    return d"
   ]
  },
  {
   "cell_type": "code",
   "execution_count": 11,
   "metadata": {},
   "outputs": [
    {
     "name": "stdout",
     "output_type": "stream",
     "text": [
      "CPU times: user 9.94 s, sys: 722 ms, total: 10.7 s\n",
      "Wall time: 10.7 s\n"
     ]
    },
    {
     "data": {
      "text/plain": [
       "('passport', 31631)"
      ]
     },
     "execution_count": 11,
     "metadata": {},
     "output_type": "execute_result"
    }
   ],
   "source": [
    "%%time\n",
    "# 6, 7\n",
    "dicts = posts['Body'].apply(cleanhtml).str.replace(\"\\n\", \" \").str.split(\" \").apply(aux)\n",
    "# Even better solution:\n",
    "# dicts = posts['Body'].str.replace('<.*?>', \"\", regex=True).str.replace(\"\\n\", \" \").str.split(\" \").apply(aux)\n",
    "big_d = defaultdict(int)\n",
    "for d in dicts:\n",
    "    for k, v in d.items():\n",
    "        big_d[k] += v\n",
    "\n",
    "s = pd.Series(big_d, name=\"Count\").reset_index()\n",
    "s.rename(columns={'index':'Word'}, inplace=True)\n",
    "\n",
    "words = s.loc[s.Word.str.len() > 7, :].sort_values(\"Count\", ascending=False).head()\n",
    "\n",
    "# 3 points\n",
    "theword = words['Word'].iloc[0]\n",
    "theword, wiki.query(\"curr == @theword.capitalize()\")['n'].sum()"
   ]
  },
  {
   "cell_type": "code",
   "execution_count": 14,
   "metadata": {},
   "outputs": [
    {
     "name": "stdout",
     "output_type": "stream",
     "text": [
      "CPU times: user 12.8 s, sys: 1.53 s, total: 14.4 s\n",
      "Wall time: 14.4 s\n"
     ]
    },
    {
     "data": {
      "text/plain": [
       "('passport', 31631)"
      ]
     },
     "execution_count": 14,
     "metadata": {},
     "output_type": "execute_result"
    }
   ],
   "source": [
    "%%time\n",
    "# 6, 7\n",
    "# Just different approach\n",
    "words = (\n",
    "    posts['Body']\n",
    "    .str.replace('<.*?>', \"\", regex=True)\n",
    "    .str.replace(\"\\n\", \" \")\n",
    "    .str.split(\" \")\n",
    "    .explode()\n",
    "    .str.lower()\n",
    ")\n",
    "theword = words[words.str.len() > 7].value_counts().head(1).index[0]\n",
    "theword, wiki.query(\"curr == @theword.capitalize()\")['n'].sum()"
   ]
  },
  {
   "cell_type": "code",
   "execution_count": 15,
   "metadata": {},
   "outputs": [
    {
     "name": "stdout",
     "output_type": "stream",
     "text": [
      "CPU times: user 933 ms, sys: 11.9 ms, total: 945 ms\n",
      "Wall time: 943 ms\n"
     ]
    },
    {
     "data": {
      "text/plain": [
       "Score                     547\n",
       "DisplayName    Andrew Lazarus\n",
       "Name: 0, dtype: object"
      ]
     },
     "execution_count": 15,
     "metadata": {},
     "output_type": "execute_result"
    }
   ],
   "source": [
    "%%time\n",
    "# 8, 9\n",
    "upvotes = (\n",
    "    votes\n",
    "    .query('VoteTypeId == 2')\n",
    "    .groupby(\"PostId\")\n",
    "    .size()\n",
    "    .reset_index(name=\"UpVotes\")\n",
    ")\n",
    "downvotes = (\n",
    "    votes\n",
    "    .query('VoteTypeId == 3')\n",
    "    .groupby(\"PostId\")\n",
    "    .size()\n",
    "    .reset_index(name=\"DownVotes\")\n",
    ")\n",
    "\n",
    "posts2 = (\n",
    "    posts\n",
    "    .merge(upvotes, left_on=\"Id\", right_on=\"PostId\", how='left')\n",
    "    .merge(downvotes, left_on=\"Id\", right_on=\"PostId\", how='left')\n",
    ")\n",
    "posts2.loc[:, ['UpVotes', 'DownVotes']] = posts2.loc[:, ['UpVotes', 'DownVotes']].fillna(value=0)\n",
    "\n",
    "posts2['UpVoteRatio'] = posts2['UpVotes'] - posts2['DownVotes']\n",
    "\n",
    "(\n",
    "    posts2\n",
    "    .merge(users, left_on=\"OwnerUserId\", right_on=\"Id\")\n",
    "    .sort_values(\"UpVoteRatio\", ascending=False)\n",
    "    .reset_index(drop=True)\n",
    "    .loc[0, ['Score', 'DisplayName']]\n",
    ")"
   ]
  },
  {
   "cell_type": "code",
   "execution_count": 16,
   "metadata": {},
   "outputs": [
    {
     "name": "stdout",
     "output_type": "stream",
     "text": [
      "CPU times: user 212 ms, sys: 8.26 ms, total: 220 ms\n",
      "Wall time: 219 ms\n"
     ]
    },
    {
     "data": {
      "text/plain": [
       "Timestamp('2016-08-31 00:00:00')"
      ]
     },
     "execution_count": 16,
     "metadata": {},
     "output_type": "execute_result"
    }
   ],
   "source": [
    "%%time\n",
    "# 10\n",
    "votes\n",
    "votes['CreationDateDT'] = pd.to_datetime(votes['CreationDate'])\n",
    "votes.set_index(\"CreationDateDT\", inplace=True)\n",
    "\n",
    "votesagg = votes.groupby(pd.Grouper(freq=\"M\")).size()\n",
    "\n",
    "votesagg.sort_values(ascending=False).index[0]\n"
   ]
  },
  {
   "cell_type": "code",
   "execution_count": 17,
   "metadata": {},
   "outputs": [
    {
     "name": "stdout",
     "output_type": "stream",
     "text": [
      "CPU times: user 0 ns, sys: 1.9 ms, total: 1.9 ms\n",
      "Wall time: 1.73 ms\n"
     ]
    },
    {
     "data": {
      "text/plain": [
       "Timestamp('2015-10-31 00:00:00')"
      ]
     },
     "execution_count": 17,
     "metadata": {},
     "output_type": "execute_result"
    }
   ],
   "source": [
    "%%time\n",
    "# 11\n",
    "# votesagg is sorted by index (CreationDateDT) \n",
    "votesagg.diff().sort_values().index[0]"
   ]
  },
  {
   "cell_type": "code",
   "execution_count": 18,
   "metadata": {},
   "outputs": [
    {
     "name": "stdout",
     "output_type": "stream",
     "text": [
      "CPU times: user 452 ms, sys: 37 µs, total: 452 ms\n",
      "Wall time: 451 ms\n"
     ]
    },
    {
     "data": {
      "text/plain": [
       "air-travel    34\n",
       "Name: Tags, dtype: int64"
      ]
     },
     "execution_count": 18,
     "metadata": {},
     "output_type": "execute_result"
    }
   ],
   "source": [
    "%%time\n",
    "# 12\n",
    "\n",
    "posts3 = posts.merge(users, left_on=\"OwnerUserId\", right_on=\"Id\")\n",
    "tags = posts3.loc[\n",
    "    posts3['Location'].str.contains(\"Poland\") | \n",
    "    posts3['Location'].str.contains(\"Polska\"), \n",
    "    'Tags'\n",
    "]\n",
    "(\n",
    "    tags\n",
    "    .str.strip(\"<\")\n",
    "    .str.strip(\">\")\n",
    "    .str.split(\"><\")\n",
    "    .dropna()\n",
    "    .explode()\n",
    "    .value_counts()\n",
    "    .head(1)\n",
    ")"
   ]
  },
  {
   "cell_type": "code",
   "execution_count": null,
   "metadata": {},
   "outputs": [],
   "source": []
  }
 ],
 "metadata": {
  "kernelspec": {
   "display_name": "Python 3.10.4 ('daftacademy-ds2')",
   "language": "python",
   "name": "python3"
  },
  "language_info": {
   "codemirror_mode": {
    "name": "ipython",
    "version": 3
   },
   "file_extension": ".py",
   "mimetype": "text/x-python",
   "name": "python",
   "nbconvert_exporter": "python",
   "pygments_lexer": "ipython3",
   "version": "3.10.4"
  },
  "orig_nbformat": 4,
  "vscode": {
   "interpreter": {
    "hash": "8d8a772a312a89d7c091db0c8769ded3912bfec6f446bb9104da72914614d8d8"
   }
  }
 },
 "nbformat": 4,
 "nbformat_minor": 2
}
