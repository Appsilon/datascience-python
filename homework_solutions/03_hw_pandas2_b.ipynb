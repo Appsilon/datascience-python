{
 "cells": [
  {
   "cell_type": "markdown",
   "metadata": {},
   "source": [
    "# Pandas Homework Part 2\n",
    "\n",
    "`polars` version"
   ]
  },
  {
   "cell_type": "code",
   "execution_count": 1,
   "metadata": {},
   "outputs": [],
   "source": [
    "import pandas as pd\n",
    "import polars as pl"
   ]
  },
  {
   "cell_type": "code",
   "execution_count": 2,
   "metadata": {},
   "outputs": [],
   "source": [
    "columns = ['prev', 'curr', 'type', 'n']"
   ]
  },
  {
   "cell_type": "code",
   "execution_count": 4,
   "metadata": {},
   "outputs": [
    {
     "name": "stdout",
     "output_type": "stream",
     "text": [
      "de Ukraine\n",
      "pl Ukraina\n",
      "CPU times: user 6.5 s, sys: 1.83 s, total: 8.32 s\n",
      "Wall time: 2.54 s\n"
     ]
    }
   ],
   "source": [
    "%%time\n",
    "for country in [\"de\", \"pl\"]:\n",
    "    dfl = pl.read_csv(f\"../data/wikipedia/clickstream-{country}wiki-2022-03.tsv.gz\",sep=\"\\t\", has_header=False, new_columns=columns, quote_char=None)\n",
    "    s = (\n",
    "        dfl.lazy()\n",
    "        .filter(pl.col(\"type\") ==\"external\")\n",
    "        .groupby(\"curr\")\n",
    "        .agg(pl.col(\"n\").sum().alias(\"total\"))\n",
    "        .sort(\"total\",reverse=True)\n",
    "        .collect()[0, 'curr']\n",
    "    )\n",
    "    print(country, s)"
   ]
  },
  {
   "cell_type": "code",
   "execution_count": 5,
   "metadata": {},
   "outputs": [],
   "source": [
    "badges = pd.read_xml(\"../data/travel/travel.stackexchange.com/Badges.xml\")\n",
    "posts = pd.read_xml(\"../data/travel/travel.stackexchange.com/Posts.xml\", parser='etree')\n",
    "tags =  pd.read_xml(\"../data/travel/travel.stackexchange.com/Tags.xml\", parser='etree')\n",
    "users =  pd.read_xml(\"../data/travel/travel.stackexchange.com/Users.xml\", parser='etree')\n",
    "votes =  pd.read_xml(\"../data/travel/travel.stackexchange.com/Votes.xml\", parser='etree')"
   ]
  },
  {
   "cell_type": "code",
   "execution_count": 6,
   "metadata": {},
   "outputs": [],
   "source": [
    "badges_pl = pl.from_pandas(badges)\n",
    "posts_pl = pl.from_pandas(posts)\n",
    "tags_pl = pl.from_pandas(tags)\n",
    "votes_pl = pl.from_pandas(votes)\n",
    "users_pl = pl.from_pandas(users)\n",
    "posts_pl['OwnerUserId'] = posts_pl['OwnerUserId'].cast(int)"
   ]
  },
  {
   "cell_type": "code",
   "execution_count": 7,
   "metadata": {},
   "outputs": [],
   "source": [
    "wiki_pl = pl.read_csv(f\"../data/wikipedia/clickstream-enwiki-2022-03.tsv.gz\", sep=\"\\t\", has_header=False, new_columns=columns, quote_char=\"\")"
   ]
  },
  {
   "cell_type": "code",
   "execution_count": 8,
   "metadata": {},
   "outputs": [
    {
     "name": "stdout",
     "output_type": "stream",
     "text": [
      "CPU times: user 393 ms, sys: 94.4 ms, total: 488 ms\n",
      "Wall time: 108 ms\n"
     ]
    },
    {
     "data": {
      "text/html": [
       "<div>\n",
       "<style scoped>\n",
       "    .dataframe tbody tr th:only-of-type {\n",
       "        vertical-align: middle;\n",
       "    }\n",
       "\n",
       "    .dataframe tbody tr th {\n",
       "        vertical-align: top;\n",
       "    }\n",
       "\n",
       "    .dataframe thead th {\n",
       "        text-align: right;\n",
       "    }\n",
       "</style>\n",
       "<table border=\"1 \"class=\"dataframe \">\n",
       "<thead>\n",
       "<tr>\n",
       "<th>\n",
       "DisplayName\n",
       "</th>\n",
       "<th>\n",
       "Location\n",
       "</th>\n",
       "</tr>\n",
       "<tr>\n",
       "<td>\n",
       "str\n",
       "</td>\n",
       "<td>\n",
       "str\n",
       "</td>\n",
       "</tr>\n",
       "</thead>\n",
       "<tbody>\n",
       "<tr>\n",
       "<td>\n",
       "\"Mark Mayo\"\n",
       "</td>\n",
       "<td>\n",
       "\"Christchurch, New Zealand\"\n",
       "</td>\n",
       "</tr>\n",
       "</tbody>\n",
       "</table>\n",
       "</div>"
      ],
      "text/plain": [
       "shape: (1, 2)\n",
       "┌─────────────┬───────────────────────────┐\n",
       "│ DisplayName ┆ Location                  │\n",
       "│ ---         ┆ ---                       │\n",
       "│ str         ┆ str                       │\n",
       "╞═════════════╪═══════════════════════════╡\n",
       "│ Mark Mayo   ┆ Christchurch, New Zealand │\n",
       "└─────────────┴───────────────────────────┘"
      ]
     },
     "execution_count": 8,
     "metadata": {},
     "output_type": "execute_result"
    }
   ],
   "source": [
    "%%time \n",
    "# 3, 4\n",
    "tid = (\n",
    "    badges_pl\n",
    "    .join(users_pl, left_on=\"UserId\", right_on=\"Id\", how='left')\n",
    "    .groupby([\"UserId\", \"DisplayName\"])\n",
    "    .agg([pl.count().alias(\"NBadges\")])\n",
    "    .sort(\"NBadges\", reverse=True)\n",
    "    .head(1)\n",
    "    [0, 'UserId']\n",
    ")\n",
    "top_user =(\n",
    "    users_pl\n",
    "    .filter(pl.col(\"Id\") == tid)\n",
    "    .select(['DisplayName', 'Location'])\n",
    ")\n",
    "top_user"
   ]
  },
  {
   "cell_type": "code",
   "execution_count": 9,
   "metadata": {},
   "outputs": [
    {
     "name": "stdout",
     "output_type": "stream",
     "text": [
      "CPU times: user 170 ms, sys: 38.5 ms, total: 208 ms\n",
      "Wall time: 44.6 ms\n"
     ]
    },
    {
     "data": {
      "text/html": [
       "<div>\n",
       "<style scoped>\n",
       "    .dataframe tbody tr th:only-of-type {\n",
       "        vertical-align: middle;\n",
       "    }\n",
       "\n",
       "    .dataframe tbody tr th {\n",
       "        vertical-align: top;\n",
       "    }\n",
       "\n",
       "    .dataframe thead th {\n",
       "        text-align: right;\n",
       "    }\n",
       "</style>\n",
       "<table border=\"1 \"class=\"dataframe \">\n",
       "<thead>\n",
       "<tr>\n",
       "<th>\n",
       "DisplayName\n",
       "</th>\n",
       "<th>\n",
       "Location\n",
       "</th>\n",
       "</tr>\n",
       "<tr>\n",
       "<td>\n",
       "str\n",
       "</td>\n",
       "<td>\n",
       "str\n",
       "</td>\n",
       "</tr>\n",
       "</thead>\n",
       "<tbody>\n",
       "<tr>\n",
       "<td>\n",
       "\"Mark Mayo\"\n",
       "</td>\n",
       "<td>\n",
       "\"Christchurch, New Zealand\"\n",
       "</td>\n",
       "</tr>\n",
       "</tbody>\n",
       "</table>\n",
       "</div>"
      ],
      "text/plain": [
       "shape: (1, 2)\n",
       "┌─────────────┬───────────────────────────┐\n",
       "│ DisplayName ┆ Location                  │\n",
       "│ ---         ┆ ---                       │\n",
       "│ str         ┆ str                       │\n",
       "╞═════════════╪═══════════════════════════╡\n",
       "│ Mark Mayo   ┆ Christchurch, New Zealand │\n",
       "└─────────────┴───────────────────────────┘"
      ]
     },
     "execution_count": 9,
     "metadata": {},
     "output_type": "execute_result"
    }
   ],
   "source": [
    "%%time \n",
    "# 3, 4 lazy evaluation\n",
    "(\n",
    "    badges_pl.lazy()\n",
    "    .join(users_pl.lazy(), left_on=\"UserId\", right_on=\"Id\", how='left')\n",
    "    .groupby([\"UserId\", \"DisplayName\"])\n",
    "    .agg([pl.count().alias(\"NBadges\")])\n",
    "    .sort(\"NBadges\", reverse=True)\n",
    "    .head(1)\n",
    "    .collect()[0, ['UserId']]\n",
    ")\n",
    "top_user = (\n",
    "    users_pl\n",
    "    .lazy()\n",
    "    .filter(pl.col(\"Id\") == tid)\n",
    "    .select(['DisplayName', 'Location'])\n",
    "    .collect()\n",
    ")\n",
    "top_user"
   ]
  },
  {
   "cell_type": "code",
   "execution_count": 10,
   "metadata": {},
   "outputs": [
    {
     "name": "stdout",
     "output_type": "stream",
     "text": [
      "CPU times: user 93 ms, sys: 1.29 ms, total: 94.3 ms\n",
      "Wall time: 78.3 ms\n"
     ]
    },
    {
     "data": {
      "text/html": [
       "<div>\n",
       "<style scoped>\n",
       "    .dataframe tbody tr th:only-of-type {\n",
       "        vertical-align: middle;\n",
       "    }\n",
       "\n",
       "    .dataframe tbody tr th {\n",
       "        vertical-align: top;\n",
       "    }\n",
       "\n",
       "    .dataframe thead th {\n",
       "        text-align: right;\n",
       "    }\n",
       "</style>\n",
       "<table border=\"1 \"class=\"dataframe \">\n",
       "<thead>\n",
       "<tr>\n",
       "<th>\n",
       "n\n",
       "</th>\n",
       "</tr>\n",
       "<tr>\n",
       "<td>\n",
       "i64\n",
       "</td>\n",
       "</tr>\n",
       "</thead>\n",
       "<tbody>\n",
       "<tr>\n",
       "<td>\n",
       "25804\n",
       "</td>\n",
       "</tr>\n",
       "</tbody>\n",
       "</table>\n",
       "</div>"
      ],
      "text/plain": [
       "shape: (1, 1)\n",
       "┌───────┐\n",
       "│ n     │\n",
       "│ ---   │\n",
       "│ i64   │\n",
       "╞═══════╡\n",
       "│ 25804 │\n",
       "└───────┘"
      ]
     },
     "execution_count": 10,
     "metadata": {},
     "output_type": "execute_result"
    }
   ],
   "source": [
    "%%time\n",
    "# 5\n",
    "city = top_user['Location'][0].split(\", \")[0]\n",
    "(\n",
    "    wiki_pl\n",
    "    .filter(pl.col('curr') == city)\n",
    "    .select(pl.col('n').sum())\n",
    ")"
   ]
  },
  {
   "cell_type": "code",
   "execution_count": 11,
   "metadata": {},
   "outputs": [
    {
     "name": "stdout",
     "output_type": "stream",
     "text": [
      "CPU times: user 2.91 s, sys: 427 ms, total: 3.34 s\n",
      "Wall time: 3.28 s\n"
     ]
    },
    {
     "data": {
      "text/plain": [
       "('passport', 31631)"
      ]
     },
     "execution_count": 11,
     "metadata": {},
     "output_type": "execute_result"
    }
   ],
   "source": [
    "%%time\n",
    "# 6, 7\n",
    "res = (\n",
    "    posts_pl\n",
    "    .select(\n",
    "        pl.col('Body')\n",
    "            .str.replace_all(\"<.*?>\", \"\")\n",
    "            .str.replace_all(\"\\n\", \" \")\n",
    "            .str.split(\" \")\n",
    "            .explode()\n",
    "            .str.to_lowercase()\n",
    "            .alias(\"Words\")\n",
    "    )\n",
    "    .select(\n",
    "        pl.col(\"Words\")\n",
    "            .filter(pl.col(\"Words\").str.lengths() > 7)\n",
    "            .value_counts()\n",
    "    ).unnest(\"Words\")\n",
    "    .head(1)\n",
    "    \n",
    ")\n",
    "res[0, 'Words'], wiki_pl.filter(pl.col('curr') == res[0, 'Words'].capitalize())['n'].sum()"
   ]
  },
  {
   "cell_type": "code",
   "execution_count": 12,
   "metadata": {},
   "outputs": [
    {
     "name": "stdout",
     "output_type": "stream",
     "text": [
      "CPU times: user 1.24 s, sys: 754 ms, total: 1.99 s\n",
      "Wall time: 469 ms\n"
     ]
    },
    {
     "data": {
      "text/html": [
       "<div>\n",
       "<style scoped>\n",
       "    .dataframe tbody tr th:only-of-type {\n",
       "        vertical-align: middle;\n",
       "    }\n",
       "\n",
       "    .dataframe tbody tr th {\n",
       "        vertical-align: top;\n",
       "    }\n",
       "\n",
       "    .dataframe thead th {\n",
       "        text-align: right;\n",
       "    }\n",
       "</style>\n",
       "<table border=\"1 \"class=\"dataframe \">\n",
       "<thead>\n",
       "<tr>\n",
       "<th>\n",
       "DisplayName\n",
       "</th>\n",
       "<th>\n",
       "UpVoteRatio\n",
       "</th>\n",
       "</tr>\n",
       "<tr>\n",
       "<td>\n",
       "str\n",
       "</td>\n",
       "<td>\n",
       "i64\n",
       "</td>\n",
       "</tr>\n",
       "</thead>\n",
       "<tbody>\n",
       "<tr>\n",
       "<td>\n",
       "\"Andrew Lazarus\"\n",
       "</td>\n",
       "<td>\n",
       "547\n",
       "</td>\n",
       "</tr>\n",
       "</tbody>\n",
       "</table>\n",
       "</div>"
      ],
      "text/plain": [
       "shape: (1, 2)\n",
       "┌────────────────┬─────────────┐\n",
       "│ DisplayName    ┆ UpVoteRatio │\n",
       "│ ---            ┆ ---         │\n",
       "│ str            ┆ i64         │\n",
       "╞════════════════╪═════════════╡\n",
       "│ Andrew Lazarus ┆ 547         │\n",
       "└────────────────┴─────────────┘"
      ]
     },
     "execution_count": 12,
     "metadata": {},
     "output_type": "execute_result"
    }
   ],
   "source": [
    "%%time\n",
    "# 8, 9\n",
    "upvotes_pl = (\n",
    "    votes_pl\n",
    "    .lazy()\n",
    "    .filter(pl.col(\"VoteTypeId\") == 2)\n",
    "    .groupby(\"PostId\")\n",
    "    .agg(pl.count().alias(\"UpVotes\"))\n",
    ")\n",
    "\n",
    "downvotes_pl = (\n",
    "    votes_pl\n",
    "    .lazy()\n",
    "    .filter(pl.col(\"VoteTypeId\") == 3)\n",
    "    .groupby(\"PostId\")\n",
    "    .agg(pl.count().alias(\"DownVotes\"))\n",
    ")\n",
    "\n",
    "(\n",
    "    posts_pl.lazy()\n",
    "    .join(upvotes_pl, left_on=\"Id\", right_on=\"PostId\", how='left')\n",
    "    .join(downvotes_pl, left_on=\"Id\", right_on=\"PostId\", how='left')\n",
    "    .with_columns(\n",
    "        [\n",
    "            pl.col(\"UpVotes\").fill_null(0),\n",
    "            pl.col(\"DownVotes\").fill_null(0),\n",
    "        ]\n",
    "    )\n",
    "    .with_column(\n",
    "        (pl.col('UpVotes') - pl.col('DownVotes')).alias('UpVoteRatio')\n",
    "    )\n",
    "    .join(users_pl.lazy(), left_on=\"OwnerUserId\", right_on=\"Id\")\n",
    "    .sort('UpVoteRatio', reverse=True)\n",
    "    .collect()[0, ['DisplayName', 'UpVoteRatio']]\n",
    ")\n"
   ]
  },
  {
   "cell_type": "code",
   "execution_count": 13,
   "metadata": {},
   "outputs": [
    {
     "name": "stdout",
     "output_type": "stream",
     "text": [
      "CPU times: user 591 ms, sys: 3.48 ms, total: 595 ms\n",
      "Wall time: 518 ms\n"
     ]
    },
    {
     "data": {
      "text/html": [
       "<div>\n",
       "<style scoped>\n",
       "    .dataframe tbody tr th:only-of-type {\n",
       "        vertical-align: middle;\n",
       "    }\n",
       "\n",
       "    .dataframe tbody tr th {\n",
       "        vertical-align: top;\n",
       "    }\n",
       "\n",
       "    .dataframe thead th {\n",
       "        text-align: right;\n",
       "    }\n",
       "</style>\n",
       "<table border=\"1 \"class=\"dataframe \">\n",
       "<thead>\n",
       "<tr>\n",
       "<th>\n",
       "Year\n",
       "</th>\n",
       "<th>\n",
       "Month\n",
       "</th>\n",
       "<th>\n",
       "NVotes\n",
       "</th>\n",
       "</tr>\n",
       "<tr>\n",
       "<td>\n",
       "i32\n",
       "</td>\n",
       "<td>\n",
       "u32\n",
       "</td>\n",
       "<td>\n",
       "u32\n",
       "</td>\n",
       "</tr>\n",
       "</thead>\n",
       "<tbody>\n",
       "<tr>\n",
       "<td>\n",
       "2016\n",
       "</td>\n",
       "<td>\n",
       "8\n",
       "</td>\n",
       "<td>\n",
       "19591\n",
       "</td>\n",
       "</tr>\n",
       "</tbody>\n",
       "</table>\n",
       "</div>"
      ],
      "text/plain": [
       "shape: (1, 3)\n",
       "┌──────┬───────┬────────┐\n",
       "│ Year ┆ Month ┆ NVotes │\n",
       "│ ---  ┆ ---   ┆ ---    │\n",
       "│ i32  ┆ u32   ┆ u32    │\n",
       "╞══════╪═══════╪════════╡\n",
       "│ 2016 ┆ 8     ┆ 19591  │\n",
       "└──────┴───────┴────────┘"
      ]
     },
     "execution_count": 13,
     "metadata": {},
     "output_type": "execute_result"
    }
   ],
   "source": [
    "%%time \n",
    "# 10\n",
    "votes_agg = (\n",
    "     votes_pl\n",
    "    .with_column(\n",
    "        pl.col('CreationDate').str.strptime(pl.Datetime)\n",
    "    )\n",
    "    .groupby([\n",
    "        pl.col('CreationDate').dt.year().alias(\"Year\"),\n",
    "        pl.col('CreationDate').dt.month().alias(\"Month\")\n",
    "    ])\n",
    "    .agg(pl.count().alias(\"NVotes\"))\n",
    ")\n",
    "\n",
    "votes_agg.filter(pl.col(\"NVotes\") == pl.col(\"NVotes\").max())"
   ]
  },
  {
   "cell_type": "code",
   "execution_count": 14,
   "metadata": {},
   "outputs": [
    {
     "name": "stdout",
     "output_type": "stream",
     "text": [
      "CPU times: user 8.34 ms, sys: 1.12 ms, total: 9.46 ms\n",
      "Wall time: 2.72 ms\n"
     ]
    },
    {
     "data": {
      "text/html": [
       "<div>\n",
       "<style scoped>\n",
       "    .dataframe tbody tr th:only-of-type {\n",
       "        vertical-align: middle;\n",
       "    }\n",
       "\n",
       "    .dataframe tbody tr th {\n",
       "        vertical-align: top;\n",
       "    }\n",
       "\n",
       "    .dataframe thead th {\n",
       "        text-align: right;\n",
       "    }\n",
       "</style>\n",
       "<table border=\"1 \"class=\"dataframe \">\n",
       "<thead>\n",
       "<tr>\n",
       "<th>\n",
       "Year\n",
       "</th>\n",
       "<th>\n",
       "Month\n",
       "</th>\n",
       "<th>\n",
       "NVotesDiff\n",
       "</th>\n",
       "</tr>\n",
       "<tr>\n",
       "<td>\n",
       "i32\n",
       "</td>\n",
       "<td>\n",
       "u32\n",
       "</td>\n",
       "<td>\n",
       "i64\n",
       "</td>\n",
       "</tr>\n",
       "</thead>\n",
       "<tbody>\n",
       "<tr>\n",
       "<td>\n",
       "2015\n",
       "</td>\n",
       "<td>\n",
       "10\n",
       "</td>\n",
       "<td>\n",
       "-6201\n",
       "</td>\n",
       "</tr>\n",
       "</tbody>\n",
       "</table>\n",
       "</div>"
      ],
      "text/plain": [
       "shape: (1, 3)\n",
       "┌──────┬───────┬────────────┐\n",
       "│ Year ┆ Month ┆ NVotesDiff │\n",
       "│ ---  ┆ ---   ┆ ---        │\n",
       "│ i32  ┆ u32   ┆ i64        │\n",
       "╞══════╪═══════╪════════════╡\n",
       "│ 2015 ┆ 10    ┆ -6201      │\n",
       "└──────┴───────┴────────────┘"
      ]
     },
     "execution_count": 14,
     "metadata": {},
     "output_type": "execute_result"
    }
   ],
   "source": [
    "%%time\n",
    "# 11\n",
    "(\n",
    "    votes_agg\n",
    "    .sort([\"Year\", \"Month\"])\n",
    "    .select([\n",
    "        \"Year\",\n",
    "        \"Month\",\n",
    "        pl.col(\"NVotes\").cast(int).diff().alias(\"NVotesDiff\")\n",
    "    ])\n",
    "    .filter(pl.col(\"NVotesDiff\") == pl.col(\"NVotesDiff\").min())\n",
    ")"
   ]
  },
  {
   "cell_type": "code",
   "execution_count": 15,
   "metadata": {},
   "outputs": [
    {
     "name": "stdout",
     "output_type": "stream",
     "text": [
      "CPU times: user 42.3 ms, sys: 15.4 ms, total: 57.7 ms\n",
      "Wall time: 21.6 ms\n"
     ]
    },
    {
     "data": {
      "text/html": [
       "<div>\n",
       "<style scoped>\n",
       "    .dataframe tbody tr th:only-of-type {\n",
       "        vertical-align: middle;\n",
       "    }\n",
       "\n",
       "    .dataframe tbody tr th {\n",
       "        vertical-align: top;\n",
       "    }\n",
       "\n",
       "    .dataframe thead th {\n",
       "        text-align: right;\n",
       "    }\n",
       "</style>\n",
       "<table border=\"1 \"class=\"dataframe \">\n",
       "<thead>\n",
       "<tr>\n",
       "<th>\n",
       "Tags\n",
       "</th>\n",
       "<th>\n",
       "counts\n",
       "</th>\n",
       "</tr>\n",
       "<tr>\n",
       "<td>\n",
       "str\n",
       "</td>\n",
       "<td>\n",
       "u32\n",
       "</td>\n",
       "</tr>\n",
       "</thead>\n",
       "<tbody>\n",
       "<tr>\n",
       "<td>\n",
       "\"air-travel\"\n",
       "</td>\n",
       "<td>\n",
       "34\n",
       "</td>\n",
       "</tr>\n",
       "</tbody>\n",
       "</table>\n",
       "</div>"
      ],
      "text/plain": [
       "shape: (1, 2)\n",
       "┌────────────┬────────┐\n",
       "│ Tags       ┆ counts │\n",
       "│ ---        ┆ ---    │\n",
       "│ str        ┆ u32    │\n",
       "╞════════════╪════════╡\n",
       "│ air-travel ┆ 34     │\n",
       "└────────────┴────────┘"
      ]
     },
     "execution_count": 15,
     "metadata": {},
     "output_type": "execute_result"
    }
   ],
   "source": [
    "%%time\n",
    "# 12\n",
    "(\n",
    "    posts_pl.lazy().join(users_pl.lazy(), left_on=\"OwnerUserId\", right_on=\"Id\", how='left')\n",
    "    .filter(\n",
    "        pl.col(\"Location\").str.contains(\"Poland\") | \n",
    "        pl.col(\"Location\").str.contains(\"Polska\")\n",
    "    )\n",
    "    .select([\n",
    "        pl.col('Tags')\n",
    "            .str.replace(r\"^<\", \"\")\n",
    "            .str.replace(r\">$\", \"\")\n",
    "            .str.split(\"><\")\n",
    "            .drop_nulls()\n",
    "            .explode()\n",
    "            .value_counts()\n",
    "    ])\n",
    "    .unnest(\"Tags\")\n",
    "    .head(1)\n",
    "    .collect()\n",
    ")\n"
   ]
  }
 ],
 "metadata": {
  "kernelspec": {
   "display_name": "Python 3.10.4 ('daftacademy-ds')",
   "language": "python",
   "name": "python3"
  },
  "language_info": {
   "codemirror_mode": {
    "name": "ipython",
    "version": 3
   },
   "file_extension": ".py",
   "mimetype": "text/x-python",
   "name": "python",
   "nbconvert_exporter": "python",
   "pygments_lexer": "ipython3",
   "version": "3.10.4"
  },
  "orig_nbformat": 4,
  "vscode": {
   "interpreter": {
    "hash": "306379f83cd7ad906f1941e4fa5d943b9cb847ce8f1ed425d8b7a18353685fed"
   }
  }
 },
 "nbformat": 4,
 "nbformat_minor": 2
}
